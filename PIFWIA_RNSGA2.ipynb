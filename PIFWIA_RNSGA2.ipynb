{
  "nbformat": 4,
  "nbformat_minor": 0,
  "metadata": {
    "colab": {
      "name": "PIFWIA_RNSGA2.ipynb",
      "provenance": [],
      "collapsed_sections": [],
      "include_colab_link": true
    },
    "kernelspec": {
      "name": "python3",
      "display_name": "Python 3"
    }
  },
  "cells": [
    {
      "cell_type": "markdown",
      "metadata": {
        "id": "view-in-github",
        "colab_type": "text"
      },
      "source": [
        "<a href=\"https://colab.research.google.com/github/alvarofpinheiro/pifwia_rnsga2/blob/main/PIFWIA_RNSGA2.ipynb\" target=\"_parent\"><img src=\"https://colab.research.google.com/assets/colab-badge.svg\" alt=\"Open In Colab\"/></a>"
      ]
    },
    {
      "cell_type": "markdown",
      "source": [
        "RNSGA2 - Reference Point Based Multi-Objective Optimization Using Evolutionary Algorithms ou Otimização multiobjetivo baseada em pontos de referência usando algoritmos evolutivos é uma metaheurística para otimização multiobjetivo elovuída do NSGA2.\n",
        "\n",
        "Kalyanmoy, D.; Sundar, J. Reference point based multi-objective optimization using evolutionary algorithms. 8th Annual Conference on Genetic and Evolutionary Computation, GECCO ‘06, 635–642. New York, NY, USA, 2006. ACM. http://doi.acm.org/10.1145/1143997.1144112, 2006.\n",
        "\n",
        "\n",
        "pymoo: Multi-objective Optimization in Python https://pymoo.org/"
      ],
      "metadata": {
        "id": "Ji1oTtz8mE9L"
      }
    },
    {
      "cell_type": "code",
      "source": [
        "#instala biblioteca Orange Canvas e pymoo (otimização multiobjetivo)\n",
        "!pip install Orange3\n",
        "!pip install pymoo"
      ],
      "metadata": {
        "id": "AZL3imHRqNv4"
      },
      "execution_count": null,
      "outputs": []
    },
    {
      "cell_type": "code",
      "metadata": {
        "id": "kSF-_chACklb"
      },
      "source": [
        "#importa bibliotecas\n",
        "import Orange\n",
        "import random\n",
        "import math\n",
        "import numpy as np\n",
        "from tqdm import tqdm\n",
        "import matplotlib.pyplot as plt\n",
        "from numpy.random import choice\n",
        "from pymoo.algorithms.moo.rnsga2 import RNSGA2\n",
        "from pymoo.factory import get_problem, get_reference_directions, get_visualization\n",
        "from pymoo.visualization.star_coordinate import StarCoordinate\n",
        "from pymoo.util.plotting import plot\n",
        "from pymoo.optimize import minimize\n",
        "from pymoo.visualization.scatter import Scatter\n",
        "from tqdm import tqdm"
      ],
      "execution_count": null,
      "outputs": []
    },
    {
      "cell_type": "code",
      "source": [
        "#define os hiperparâmetros\n",
        "OBJETIVOS = [\"Eficiência\",\"Eficácia\"] #quantidade de objetivos distintos a serem resolvidos\n",
        "DIMENSOES = 2 #determina a quantidade de dimensões do problema\n",
        "ITERACOES = 200 #quantiddade máxima de ciclos (episódios) especificando quantas explorações podem ser realizadas\n",
        "POPULACAO = 10 #tamanho da população correspondente ao indivíduo\n",
        "E1 = -100 #extremo esquerdo eixo x\n",
        "E2 = 100 #extremo direito eixo x\n",
        "E3 = -100 #extremo inferior eixo y\n",
        "E4 = 100 #extremo superior eixo y\n",
        "LIMITES = [E1, E4] #(bound) determina os valores mínimos e máximos do espaço de busca\n",
        "SEMENTE=1 #valor de inicialização\n",
        "INDIVIDUOS = [] #(swarm) array da criação dos indivíduos da população"
      ],
      "metadata": {
        "id": "eq1IiXrNqYjP"
      },
      "execution_count": null,
      "outputs": []
    },
    {
      "cell_type": "code",
      "source": [
        "#importa dados\n",
        "from google.colab import files  \n",
        "files.upload()"
      ],
      "metadata": {
        "id": "ZqKsxZlZq5_3"
      },
      "execution_count": null,
      "outputs": []
    },
    {
      "cell_type": "code",
      "source": [
        "#instancia objeto de dados com base no caminho gerado na importação do arquivo\n",
        "dados = Orange.data.Table(\"/content/dados.csv\")\n",
        "#explora os metadados e dados da arquivo importado\n",
        "qtde_campos = len(dados.domain.attributes)\n",
        "qtde_cont = sum(1 for a in dados.domain.attributes if a.is_continuous)\n",
        "qtde_disc = sum(1 for a in dados.domain.attributes if a.is_discrete)\n",
        "print(\"%d metadados: %d continuos, %d discretos\" % (qtde_campos, qtde_cont, qtde_disc))\n",
        "print(\"Nome dos metadados:\", \", \".join(dados.domain.attributes[i].name for i in range(qtde_campos)),)\n",
        "dados.domain.attributes #explora os domínios dos atributos (campos da base de dados)\n",
        "print(\"Registros:\", len(dados)) #explora os dados (quantidade de registros da base de dados)\n",
        "i = 0 #exibe os primeiros registros para análise dos dados importados\n",
        "for d in dados[:20]:\n",
        "  i += 1\n",
        "  #print(i, d)\n",
        "#cria arrays das dimensões do problema a ser otimizado\n",
        "procurador = []\n",
        "processo = []\n",
        "complexidade = [] #1-muito baixa complexidade;2-baixa complexidade;3-média complexidade;4-alta complexidade;e,5-muito alta complexidade\n",
        "pagina = []\n",
        "prazo = []\n",
        "revisao = []\n",
        "entrega = []\n",
        "valor = []\n",
        "i = 0\n",
        "for d in dados[:POPULACAO]:\n",
        "  procurador.append(d[0])\n",
        "  processo.append(d[1])\n",
        "  complexidade.append(d[2])\n",
        "  pagina.append(d[3])\n",
        "  prazo.append(d[4])\n",
        "  revisao.append(d[5])\n",
        "  entrega.append(d[6])\n",
        "  valor.append(d[7])\n",
        "  #print(\"id:\",i,\"procurador:\",procurador[i],\"processo:\",processo[i],\"complexidade:\",complexidade[i],\"página:\",pagina[i],\"prazo:\",prazo[i],\"revisões:\",revisao[i],\"entrega:\",entrega[i],\"valor:\",valor[i])\n",
        "  i += 1\n",
        "#definição dos pesos da função objetivo\n",
        "PESOS = [0.2,0.2,0.1,0.1,0.1,0.3] #f(x) = (0.2α + 0.2β + 0.1γ + 0.1δ + 0.1ε + 0.3θ) / 0.10\n",
        "pesos = []\n",
        "for i in range(DIMENSOES):\n",
        "  pesos.append(PESOS[i])\n",
        "print(pesos)"
      ],
      "metadata": {
        "id": "u1UUjLTBq8V-",
        "colab": {
          "base_uri": "https://localhost:8080/"
        },
        "outputId": "bceb6626-f002-4970-bd50-848acf150462"
      },
      "execution_count": null,
      "outputs": [
        {
          "output_type": "stream",
          "name": "stdout",
          "text": [
            "8 metadados: 7 continuos, 1 discretos\n",
            "Nome dos metadados: PROCURADOR, PROCESSO, COMPLEXIDADE, PAGINA, PRAZO, REVISOES, ENTREGA, VALOR(milR$)\n",
            "Registros: 1013\n",
            "[0.2, 0.2]\n"
          ]
        },
        {
          "output_type": "stream",
          "name": "stderr",
          "text": [
            "/usr/local/lib/python3.7/dist-packages/psycopg2/__init__.py:144: UserWarning: The psycopg2 wheel package will be renamed from release 2.8; in order to keep installing from binary please use \"pip install psycopg2-binary\" instead. For details see: <http://initd.org/psycopg/docs/install.html#binary-install-from-pypi>.\n",
            "  \"\"\")\n"
          ]
        }
      ]
    },
    {
      "cell_type": "code",
      "source": [
        "#inicializa população (indivíduos)\n",
        "populacao = []\n",
        "for i in range(POPULACAO):\n",
        "  cpx = complexidade[i]\n",
        "  pag = pagina[i]\n",
        "  prz = prazo[i]\n",
        "  rev = revisao[i]\n",
        "  ent = entrega[i]\n",
        "  val = valor[i]\n",
        "  posicao = 0\n",
        "  individuo = []\n",
        "  for j in range(DIMENSOES):\n",
        "    if (j==0):\n",
        "      posicao = cpx\n",
        "    elif (j==1):\n",
        "      posicao = pag\n",
        "    elif (j==2):\n",
        "      posicao = prz\n",
        "    elif (j==3):\n",
        "      posicao = rev\n",
        "    elif (j==4):\n",
        "      posicao = ent\n",
        "    elif (j==5):\n",
        "      posicao = val\n",
        "    else:\n",
        "      posicao = random.random()*(LIMITES[1]-LIMITES[0]) - LIMITES[1]\n",
        "    individuo.append(posicao)\n",
        "  populacao.append(individuo)\n",
        "  INDIVIDUOS = np.array(populacao)\n",
        "  aux = \"\"\n",
        "  for p in range(len(pesos)):\n",
        "    aux += str(pesos[p]) + \", \"\n",
        "  print(\"indivíduo:\",i,\"indivíduo:\",populacao[i],\"pesos:\",aux)"
      ],
      "metadata": {
        "colab": {
          "base_uri": "https://localhost:8080/"
        },
        "id": "HhvijsRE3n2I",
        "outputId": "6d8c40a4-35c7-4431-ab12-43602db60b47"
      },
      "execution_count": null,
      "outputs": [
        {
          "output_type": "stream",
          "name": "stdout",
          "text": [
            "indivíduo: 0 indivíduo: [Value('COMPLEXIDADE', 2), Value('PAGINA', 37)] pesos: 0.2, 0.2, \n",
            "indivíduo: 1 indivíduo: [Value('COMPLEXIDADE', 2), Value('PAGINA', 2)] pesos: 0.2, 0.2, \n",
            "indivíduo: 2 indivíduo: [Value('COMPLEXIDADE', 4), Value('PAGINA', 82)] pesos: 0.2, 0.2, \n",
            "indivíduo: 3 indivíduo: [Value('COMPLEXIDADE', 2), Value('PAGINA', 17)] pesos: 0.2, 0.2, \n",
            "indivíduo: 4 indivíduo: [Value('COMPLEXIDADE', 3), Value('PAGINA', 11)] pesos: 0.2, 0.2, \n",
            "indivíduo: 5 indivíduo: [Value('COMPLEXIDADE', 2), Value('PAGINA', 48)] pesos: 0.2, 0.2, \n",
            "indivíduo: 6 indivíduo: [Value('COMPLEXIDADE', 1), Value('PAGINA', 18)] pesos: 0.2, 0.2, \n",
            "indivíduo: 7 indivíduo: [Value('COMPLEXIDADE', 1), Value('PAGINA', 3)] pesos: 0.2, 0.2, \n",
            "indivíduo: 8 indivíduo: [Value('COMPLEXIDADE', 2), Value('PAGINA', 4)] pesos: 0.2, 0.2, \n",
            "indivíduo: 9 indivíduo: [Value('COMPLEXIDADE', 1), Value('PAGINA', 7)] pesos: 0.2, 0.2, \n"
          ]
        }
      ]
    },
    {
      "cell_type": "code",
      "source": [
        "#define a função de cálculo\n",
        "def calcula(exibe):\n",
        "  problema = get_problem(FCUSTO, n_var=POPULACAO)\n",
        "  pareto = problema.pareto_front()\n",
        "  ponto = []\n",
        "  for l in range(len(populacao)):\n",
        "    ponto.append(np.array(populacao[l]))\n",
        "  pontos = np.array(ponto)\n",
        "  algoritmo = RNSGA2(\n",
        "    ref_points=pontos,\n",
        "    pop_size=POPULACAO,\n",
        "    epsilon=0.01,\n",
        "    normalization='front',\n",
        "    extreme_points_as_reference_points=False,\n",
        "    weights=np.array(pesos))\n",
        "  resultado = minimize(problema, #objeto Problema que contém o problema a ser resolvido\n",
        "    algoritmo, #objetivo de algoritmo que representa o algoritmo a ser usado\n",
        "    termination=('n_gen',ITERACOES), #um objeto que define quando o algoritmo termina\n",
        "    save_history=True, #um valor booleano que representa se um instantâneo do algoritmo deve ser armazenado em cada iteração\n",
        "    seed=SEMENTE, #semente com valor inteiro positivo garante resultados reproduzíveis \n",
        "    pf=pareto, #define o ploblema de pareto\n",
        "    disp=False, #você pode substituir qual saída deve ser impressa em cada iteração\n",
        "    verbose=exibe) #valor booleano que define se a saída deve ser impressa durante a execução ou não\n",
        "  return (pareto, resultado)"
      ],
      "metadata": {
        "id": "YZfH-Bl_Pdfv"
      },
      "execution_count": null,
      "outputs": []
    },
    {
      "cell_type": "code",
      "source": [
        "#calcula a otimização\n",
        "c1dtlz = ['c1dtlz1', 'c1dtlz3', 'c2dtlz2', 'c3dtlz1', 'c3dtlz4']\n",
        "convex = ['convex_dtlz2', 'convex_dtlz4']\n",
        "ctp = ['ctp1', 'ctp2', 'ctp3', 'ctp4', 'ctp5', 'ctp6', 'ctp7', 'ctp8']\n",
        "dascmop = ['dascmop1', 'dascmop2', 'dascmop3', 'dascmop4', 'dascmop5', 'dascmop6', 'dascmop7', 'dascmop8', 'dascmop9'] #conjunto de testes multiobjetivo restrito com restrições ajustáveis\n",
        "dc1dtlz = ['dc1dtlz1', 'dc1dtlz3', 'dc2dtlz1', 'dc2dtlz3', 'dc3dtlz1', 'dc3dtlz3'] #para problemas de convergência em hiperplano de Pareto-ótimo\n",
        "dtlz = ['dtlz1^-1', 'dtlz1', 'dtlz2', 'dtlz3', 'dtlz4', 'dtlz5', 'dtlz6', 'dtlz7']\n",
        "g = ['g01', 'g02', 'g03', 'g04', 'g05', 'g06', 'g07', 'g08', 'g09', 'g10']\n",
        "mw = ['mw1', 'mw2', 'mw3', 'mw4', 'mw5', 'mw6', 'mw7', 'mw8', 'mw9', 'mw10', 'mw11', 'mw12', 'mw13', 'mw14'] #conjunto multi-objetivo restrito construído para problemas com até 4 restrições de desigualdade\n",
        "wfg = ['wfg1', 'wfg2', 'wfg3', 'wfg4', 'wfg5', 'wfg6', 'wfg7', 'wfg8', 'wfg9']\n",
        "zdt = ['zdt1', 'zdt2', 'zdt3', 'zdt4', 'zdt5', 'zdt6'] #dois objetivos devem ser minimizados\n",
        "outros = ['rosenbrock', 'schwefel', 'sphere', 'srn', 'tnk', 'truss2d', 'welded_beam', 'zakharov','ackley', 'bnh', 'carside','modact','sdtlz1','cantilevered_beam', 'griewank', 'himmelblau', 'knp', 'kursawe', 'osy', 'pressure_vessel', 'rastrigin']\n",
        "FCUSTO=zdt[0]\n",
        "pareto,resultado=calcula(True)"
      ],
      "metadata": {
        "colab": {
          "base_uri": "https://localhost:8080/"
        },
        "id": "vypX6jcC4JAL",
        "outputId": "1e8fc4c6-b625-4d50-d63b-17f5d59d87ab"
      },
      "execution_count": null,
      "outputs": [
        {
          "output_type": "stream",
          "name": "stdout",
          "text": [
            "============================================================\n",
            "n_gen |  n_eval |     igd      |      gd      |      hv     \n",
            "============================================================\n",
            "    1 |      10 |  2.167832580 |  2.474303625 |  0.00000E+00\n",
            "    2 |      20 |  2.143129849 |  2.509955404 |  0.00000E+00\n",
            "    3 |      30 |  1.953124175 |  1.889397222 |  0.00000E+00\n",
            "    4 |      40 |  1.573743940 |  1.804213366 |  0.00000E+00\n",
            "    5 |      50 |  1.177312229 |  1.882382569 |  0.00000E+00\n",
            "    6 |      60 |  1.169149013 |  2.077834600 |  0.00000E+00\n",
            "    7 |      70 |  1.168741520 |  1.915953826 |  0.00000E+00\n",
            "    8 |      80 |  1.168741520 |  1.339381195 |  0.00000E+00\n",
            "    9 |      90 |  1.096525014 |  1.255434016 |  0.00000E+00\n",
            "   10 |     100 |  1.083478851 |  1.230565286 |  0.00000E+00\n",
            "   11 |     110 |  1.073293491 |  1.216147958 |  0.00000E+00\n",
            "   12 |     120 |  0.981032073 |  1.374911946 |  0.00000E+00\n",
            "   13 |     130 |  0.784625521 |  1.321401439 |  0.005233401\n",
            "   14 |     140 |  0.769751766 |  1.312400790 |  0.005233401\n",
            "   15 |     150 |  0.760534494 |  1.079642547 |  0.008713185\n",
            "   16 |     160 |  0.746174938 |  0.970789559 |  0.013800614\n",
            "   17 |     170 |  0.717514227 |  0.901537490 |  0.023392368\n",
            "   18 |     180 |  0.684358763 |  0.947843072 |  0.034229289\n",
            "   19 |     190 |  0.684358763 |  0.896018972 |  0.034229289\n",
            "   20 |     200 |  0.673050736 |  0.834182049 |  0.034909629\n",
            "   21 |     210 |  0.674370355 |  0.854805408 |  0.040122624\n",
            "   22 |     220 |  0.656512726 |  0.763124963 |  0.046575278\n",
            "   23 |     230 |  0.646725835 |  0.718388166 |  0.046770508\n",
            "   24 |     240 |  0.646725835 |  0.647002680 |  0.048204471\n",
            "   25 |     250 |  0.646200156 |  0.636841003 |  0.048691758\n",
            "   26 |     260 |  0.633266212 |  0.604202907 |  0.050504465\n",
            "   27 |     270 |  0.637452469 |  0.622963462 |  0.048490878\n",
            "   28 |     280 |  0.629467720 |  0.650763626 |  0.054168347\n",
            "   29 |     290 |  0.531665883 |  0.596821261 |  0.092256218\n",
            "   30 |     300 |  0.546102762 |  0.627212040 |  0.092336004\n",
            "   31 |     310 |  0.546598286 |  0.628810838 |  0.094246664\n",
            "   32 |     320 |  0.543283197 |  0.620785275 |  0.092631633\n",
            "   33 |     330 |  0.506797641 |  0.604708367 |  0.108839347\n",
            "   34 |     340 |  0.502429589 |  0.606844113 |  0.111141073\n",
            "   35 |     350 |  0.480874781 |  0.569476684 |  0.129422150\n",
            "   36 |     360 |  0.496982491 |  0.541351042 |  0.103307775\n",
            "   37 |     370 |  0.500665718 |  0.532452583 |  0.102601661\n",
            "   38 |     380 |  0.490624350 |  0.528220710 |  0.104830041\n",
            "   39 |     390 |  0.470834279 |  0.520153074 |  0.107844984\n",
            "   40 |     400 |  0.452386525 |  0.536204181 |  0.114670974\n",
            "   41 |     410 |  0.435332802 |  0.514261100 |  0.116011797\n",
            "   42 |     420 |  0.424804970 |  0.515219748 |  0.138026477\n",
            "   43 |     430 |  0.424754401 |  0.493187695 |  0.139395912\n",
            "   44 |     440 |  0.424125017 |  0.421324414 |  0.140521629\n",
            "   45 |     450 |  0.416227806 |  0.409794908 |  0.146018900\n",
            "   46 |     460 |  0.435645712 |  0.479053738 |  0.147149875\n",
            "   47 |     470 |  0.432320343 |  0.454662942 |  0.148396007\n",
            "   48 |     480 |  0.418047991 |  0.438003110 |  0.154196127\n",
            "   49 |     490 |  0.405230670 |  0.393430947 |  0.154760876\n",
            "   50 |     500 |  0.393770499 |  0.385845738 |  0.162302188\n",
            "   51 |     510 |  0.380189195 |  0.387317935 |  0.168284984\n",
            "   52 |     520 |  0.380189195 |  0.385103647 |  0.168284984\n",
            "   53 |     530 |  0.352548085 |  0.376363642 |  0.184530367\n",
            "   54 |     540 |  0.330114019 |  0.324679740 |  0.184530367\n",
            "   55 |     550 |  0.330114019 |  0.321216653 |  0.184945921\n",
            "   56 |     560 |  0.330114019 |  0.292485490 |  0.184945921\n",
            "   57 |     570 |  0.301489958 |  0.295284398 |  0.201151386\n",
            "   58 |     580 |  0.287578977 |  0.284603903 |  0.210168179\n",
            "   59 |     590 |  0.280208703 |  0.244044454 |  0.220664287\n",
            "   60 |     600 |  0.280208703 |  0.220546734 |  0.221021778\n",
            "   61 |     610 |  0.279930672 |  0.218588220 |  0.221482969\n",
            "   62 |     620 |  0.278383305 |  0.207340481 |  0.223661400\n",
            "   63 |     630 |  0.246744801 |  0.179197659 |  0.251316164\n",
            "   64 |     640 |  0.217689555 |  0.153093610 |  0.294107240\n",
            "   65 |     650 |  0.202807703 |  0.148018908 |  0.301971629\n",
            "   66 |     660 |  0.220767687 |  0.136960857 |  0.284933823\n",
            "   67 |     670 |  0.193292861 |  0.108329193 |  0.330654165\n",
            "   68 |     680 |  0.171517574 |  0.070679706 |  0.341830044\n",
            "   69 |     690 |  0.146932216 |  0.072347249 |  0.400992007\n",
            "   70 |     700 |  0.146096034 |  0.069610447 |  0.404708428\n",
            "   71 |     710 |  0.134584365 |  0.070746944 |  0.433594671\n",
            "   72 |     720 |  0.134632857 |  0.054822332 |  0.434107429\n",
            "   73 |     730 |  0.131822060 |  0.049755293 |  0.441656929\n",
            "   74 |     740 |  0.129162497 |  0.054380329 |  0.446152298\n",
            "   75 |     750 |  0.127819829 |  0.052835158 |  0.448218951\n",
            "   76 |     760 |  0.123793303 |  0.048794053 |  0.453428124\n",
            "   77 |     770 |  0.124123069 |  0.048597020 |  0.452603396\n",
            "   78 |     780 |  0.140883709 |  0.039857314 |  0.431796622\n",
            "   79 |     790 |  0.137751215 |  0.034182787 |  0.437445622\n",
            "   80 |     800 |  0.149186939 |  0.031543741 |  0.410689020\n",
            "   81 |     810 |  0.199162650 |  0.029182336 |  0.322977690\n",
            "   82 |     820 |  0.192492342 |  0.031825678 |  0.331397958\n",
            "   83 |     830 |  0.192785758 |  0.040871210 |  0.314742674\n",
            "   84 |     840 |  0.193259941 |  0.028618291 |  0.320200342\n",
            "   85 |     850 |  0.174829096 |  0.025644152 |  0.365580042\n",
            "   86 |     860 |  0.175177695 |  0.025889316 |  0.365156232\n",
            "   87 |     870 |  0.173449539 |  0.024492481 |  0.367820253\n",
            "   88 |     880 |  0.190032245 |  0.025234416 |  0.326982882\n",
            "   89 |     890 |  0.172373885 |  0.024407901 |  0.370527972\n",
            "   90 |     900 |  0.189512240 |  0.026577801 |  0.325863356\n",
            "   91 |     910 |  0.190529597 |  0.027231194 |  0.324553847\n",
            "   92 |     920 |  0.182422196 |  0.033854426 |  0.325670107\n",
            "   93 |     930 |  0.175279015 |  0.025114818 |  0.360381988\n",
            "   94 |     940 |  0.174404233 |  0.027781417 |  0.350823100\n",
            "   95 |     950 |  0.173760941 |  0.025649173 |  0.353739374\n",
            "   96 |     960 |  0.172854546 |  0.022783872 |  0.354995746\n",
            "   97 |     970 |  0.152556548 |  0.027762356 |  0.397586053\n",
            "   98 |     980 |  0.143179529 |  0.031675843 |  0.411499432\n",
            "   99 |     990 |  0.153128908 |  0.041116152 |  0.380784794\n",
            "  100 |    1000 |  0.157090252 |  0.019509502 |  0.391682783\n",
            "  101 |    1010 |  0.159686113 |  0.019758496 |  0.410353657\n",
            "  102 |    1020 |  0.159343900 |  0.017860969 |  0.410952959\n",
            "  103 |    1030 |  0.211020254 |  0.017841872 |  0.302411203\n",
            "  104 |    1040 |  0.209466291 |  0.012539922 |  0.304993095\n",
            "  105 |    1050 |  0.194387636 |  0.013210715 |  0.339066232\n",
            "  106 |    1060 |  0.191958198 |  0.012814932 |  0.348128395\n",
            "  107 |    1070 |  0.214110341 |  0.016961517 |  0.310397676\n",
            "  108 |    1080 |  0.202371601 |  0.014092777 |  0.333435405\n",
            "  109 |    1090 |  0.202337809 |  0.013883734 |  0.333470510\n",
            "  110 |    1100 |  0.219550276 |  0.015399073 |  0.291247104\n",
            "  111 |    1110 |  0.219419476 |  0.014980464 |  0.291636414\n",
            "  112 |    1120 |  0.266909175 |  0.016253937 |  0.218001728\n",
            "  113 |    1130 |  0.249615398 |  0.016155989 |  0.274534385\n",
            "  114 |    1140 |  0.291583571 |  0.015745086 |  0.181785286\n",
            "  115 |    1150 |  0.291515465 |  0.015407633 |  0.181885547\n",
            "  116 |    1160 |  0.269495421 |  0.016690113 |  0.202244660\n",
            "  117 |    1170 |  0.240048435 |  0.017441433 |  0.277778715\n",
            "  118 |    1180 |  0.240144816 |  0.016459223 |  0.277661999\n",
            "  119 |    1190 |  0.215924625 |  0.020477259 |  0.305470988\n",
            "  120 |    1200 |  0.213454106 |  0.017781553 |  0.315800832\n",
            "  121 |    1210 |  0.213117954 |  0.016156958 |  0.316361335\n",
            "  122 |    1220 |  0.237701232 |  0.015435044 |  0.255166617\n",
            "  123 |    1230 |  0.237663961 |  0.015323318 |  0.255225761\n",
            "  124 |    1240 |  0.237400188 |  0.014024983 |  0.255533431\n",
            "  125 |    1250 |  0.224539344 |  0.015224825 |  0.275294745\n",
            "  126 |    1260 |  0.224672783 |  0.015021008 |  0.275122720\n",
            "  127 |    1270 |  0.215449710 |  0.012529081 |  0.299277877\n",
            "  128 |    1280 |  0.177020138 |  0.028065975 |  0.360569166\n",
            "  129 |    1290 |  0.168478314 |  0.014068657 |  0.393154019\n",
            "  130 |    1300 |  0.212839191 |  0.013666631 |  0.304202665\n",
            "  131 |    1310 |  0.161755540 |  0.014625184 |  0.419864387\n",
            "  132 |    1320 |  0.159701381 |  0.012313777 |  0.427024603\n",
            "  133 |    1330 |  0.211990221 |  0.015282440 |  0.310922871\n",
            "  134 |    1340 |  0.211788614 |  0.014090091 |  0.311267565\n",
            "  135 |    1350 |  0.237307215 |  0.013956086 |  0.271901737\n",
            "  136 |    1360 |  0.237430673 |  0.013957904 |  0.271746089\n",
            "  137 |    1370 |  0.250061506 |  0.013771456 |  0.252425266\n",
            "  138 |    1380 |  0.250061506 |  0.014052042 |  0.252433806\n",
            "  139 |    1390 |  0.260964569 |  0.013695463 |  0.223412665\n",
            "  140 |    1400 |  0.260964569 |  0.013992344 |  0.223419486\n",
            "  141 |    1410 |  0.199891714 |  0.013863904 |  0.360870976\n",
            "  142 |    1420 |  0.273305906 |  0.014495001 |  0.238384681\n",
            "  143 |    1430 |  0.291724884 |  0.015875462 |  0.194751127\n",
            "  144 |    1440 |  0.291724884 |  0.015875462 |  0.194751127\n",
            "  145 |    1450 |  0.291724884 |  0.015439630 |  0.194792549\n",
            "  146 |    1460 |  0.306575457 |  0.015270976 |  0.173334394\n",
            "  147 |    1470 |  0.295876808 |  0.015358891 |  0.200420787\n",
            "  148 |    1480 |  0.295874130 |  0.015191101 |  0.200432710\n",
            "  149 |    1490 |  0.285388768 |  0.015253020 |  0.215868255\n",
            "  150 |    1500 |  0.295642980 |  0.014421492 |  0.189655861\n",
            "  151 |    1510 |  0.277021853 |  0.020148974 |  0.192006963\n",
            "  152 |    1520 |  0.276029071 |  0.019872802 |  0.193004629\n",
            "  153 |    1530 |  0.258153223 |  0.013720287 |  0.266053988\n",
            "  154 |    1540 |  0.298454853 |  0.012837551 |  0.174154324\n",
            "  155 |    1550 |  0.283610155 |  0.013959354 |  0.181795743\n",
            "  156 |    1560 |  0.285172138 |  0.013987129 |  0.179273014\n",
            "  157 |    1570 |  0.269179343 |  0.015179268 |  0.203478278\n",
            "  158 |    1580 |  0.216031837 |  0.015775820 |  0.327938638\n",
            "  159 |    1590 |  0.235668102 |  0.028415638 |  0.254146707\n",
            "  160 |    1600 |  0.239285079 |  0.023460784 |  0.254553613\n",
            "  161 |    1610 |  0.239380817 |  0.023688104 |  0.254403629\n",
            "  162 |    1620 |  0.251488029 |  0.018034463 |  0.249868472\n",
            "  163 |    1630 |  0.241128198 |  0.017951103 |  0.245816077\n",
            "  164 |    1640 |  0.240628772 |  0.016174929 |  0.246690757\n",
            "  165 |    1650 |  0.213138865 |  0.019306615 |  0.309108414\n",
            "  166 |    1660 |  0.230576167 |  0.020327277 |  0.267724210\n",
            "  167 |    1670 |  0.230506751 |  0.018993553 |  0.268464143\n",
            "  168 |    1680 |  0.212100966 |  0.018651234 |  0.314635515\n",
            "  169 |    1690 |  0.214624102 |  0.017692897 |  0.315091643\n",
            "  170 |    1700 |  0.214644404 |  0.017719828 |  0.315039152\n",
            "  171 |    1710 |  0.232581200 |  0.016150010 |  0.270479417\n",
            "  172 |    1720 |  0.230943799 |  0.014736459 |  0.277962200\n",
            "  173 |    1730 |  0.231671202 |  0.015628666 |  0.277098791\n",
            "  174 |    1740 |  0.231224370 |  0.015017444 |  0.277624406\n",
            "  175 |    1750 |  0.230731925 |  0.012777781 |  0.278507900\n",
            "  176 |    1760 |  0.219920021 |  0.013773340 |  0.312509923\n",
            "  177 |    1770 |  0.220006409 |  0.014534326 |  0.312232439\n",
            "  178 |    1780 |  0.236802000 |  0.013293215 |  0.269270847\n",
            "  179 |    1790 |  0.236779166 |  0.013195180 |  0.269369477\n",
            "  180 |    1800 |  0.236642771 |  0.012425093 |  0.269694895\n",
            "  181 |    1810 |  0.236630135 |  0.012160838 |  0.269720396\n",
            "  182 |    1820 |  0.236595615 |  0.011983869 |  0.269822496\n",
            "  183 |    1830 |  0.236556073 |  0.011681403 |  0.269816626\n",
            "  184 |    1840 |  0.244764265 |  0.011907373 |  0.248291863\n",
            "  185 |    1850 |  0.244784497 |  0.012088665 |  0.248240831\n",
            "  186 |    1860 |  0.244770317 |  0.011986071 |  0.248299609\n",
            "  187 |    1870 |  0.196566215 |  0.012264367 |  0.374909357\n",
            "  188 |    1880 |  0.262329562 |  0.011358725 |  0.219581989\n",
            "  189 |    1890 |  0.241058213 |  0.013285816 |  0.280315336\n",
            "  190 |    1900 |  0.241050029 |  0.013204135 |  0.280257756\n",
            "  191 |    1910 |  0.270083661 |  0.012884106 |  0.239537846\n",
            "  192 |    1920 |  0.271637446 |  0.013851263 |  0.246173371\n",
            "  193 |    1930 |  0.281104117 |  0.014157129 |  0.223840446\n",
            "  194 |    1940 |  0.281105837 |  0.013949825 |  0.223846735\n",
            "  195 |    1950 |  0.281016283 |  0.012911736 |  0.224252874\n",
            "  196 |    1960 |  0.301995860 |  0.011584371 |  0.173041017\n",
            "  197 |    1970 |  0.285709985 |  0.011802020 |  0.212931400\n",
            "  198 |    1980 |  0.285816137 |  0.012870095 |  0.212845106\n",
            "  199 |    1990 |  0.291643963 |  0.014544613 |  0.175336255\n",
            "  200 |    2000 |  0.291620879 |  0.014588281 |  0.175349518\n"
          ]
        }
      ]
    },
    {
      "cell_type": "code",
      "source": [
        "#plota o resultado dos valores de espaços objetivos (resultado.F)\n",
        "approx_ideal = resultado.F.min(axis=0)\n",
        "approx_nadir = resultado.F.max(axis=0)\n",
        "solucao = []\n",
        "for i in range(len(OBJETIVOS)):\n",
        "  try:\n",
        "    pnt = int(str(approx_ideal[i])[0:1])\n",
        "  except:\n",
        "    pnt = 1\n",
        "  if (len(OBJETIVOS)>2):\n",
        "    if (i>0):\n",
        "      pnt = pnt + POPULACAO * (i*len(OBJETIVOS))\n",
        "  solucao.append(pnt)\n",
        "rotulo = []\n",
        "cores = [\"red\",\"blue\",\"black\",\"green\",\"pink\",\"brown\"]\n",
        "DIRECAO = get_reference_directions(\"uniform\", len(OBJETIVOS), n_partitions=POPULACAO)\n",
        "F = get_problem(FCUSTO).pareto_front(DIRECAO)\n",
        "SC = StarCoordinate(title=\"Otimização Multiobjetivo\", \n",
        "  legend=(True, {'loc': \"upper left\", 'bbox_to_anchor': (-0.1, 1.08, 0, 0)}),\n",
        "  labels=OBJETIVOS,\n",
        "  axis_style={\"color\": \"blue\", 'alpha': 0.7},\n",
        "  arrow_style={\"head_length\": 0.015, \"head_width\": 0.03})\n",
        "SC.add(resultado.F, color=\"grey\", s=20)\n",
        "j = len(OBJETIVOS)-1\n",
        "for i in range(len(OBJETIVOS)):\n",
        "  SC.add(resultado.F[solucao[i]], color=cores[i], s=60, label=OBJETIVOS[j-i])\n",
        "SC.show()"
      ],
      "metadata": {
        "id": "CSFL4Z1Bn_Te",
        "colab": {
          "base_uri": "https://localhost:8080/",
          "height": 395
        },
        "outputId": "bfec782c-1886-4566-afce-b094f41f9abb"
      },
      "execution_count": null,
      "outputs": [
        {
          "output_type": "execute_result",
          "data": {
            "text/plain": [
              "<pymoo.visualization.star_coordinate.StarCoordinate at 0x7fd06998b490>"
            ]
          },
          "metadata": {},
          "execution_count": 13
        },
        {
          "output_type": "display_data",
          "data": {
            "text/plain": [
              "<Figure size 576x432 with 1 Axes>"
            ],
            "image/png": "[encoded data removed]"
          },
          "metadata": {}
        }
      ]
    },
    {
      "cell_type": "code",
      "source": [
        "#exibe curva de convergência dos indivíduos\n",
        "retorno = [np.min(e.pop.get(\"F\")) for e in resultado.history]\n",
        "plt.plot(np.arange(len(retorno)),retorno)\n",
        "plt.title(\"Curva de Convergência do RNSGA2\")\n",
        "plt.xlabel(\"Iterações\")\n",
        "plt.ylabel(\"Melhores Posições (F)\")\n",
        "plt.show()"
      ],
      "metadata": {
        "id": "E5Mjqtb8qJJS",
        "colab": {
          "base_uri": "https://localhost:8080/",
          "height": 295
        },
        "outputId": "692e808c-2e2c-4ef1-c484-71f031537d84"
      },
      "execution_count": null,
      "outputs": [
        {
          "output_type": "display_data",
          "data": {
            "text/plain": [
              "<Figure size 432x288 with 1 Axes>"
            ],
            "image/png": "[encoded data removed]"
          },
          "metadata": {
            "needs_background": "light"
          }
        }
      ]
    },
    {
      "cell_type": "code",
      "source": [
        "#exibe os resultados\n",
        "print(\"n_gen=número de iterações (gerações) | n_eval=número de avaliações | igd=desempenho distância geracional invertida | gd=desempenho da distância geracional | hv=hypervolume\")\n",
        "#resultados F\n",
        "for i in range(POPULACAO):\n",
        "  print(\"i:\",i,\"espaços objetivos:\",resultado.F[i])\n",
        "#resultados pop\n",
        "popfim = resultado.pop\n",
        "popfimF = popfim.get(\"F\")\n",
        "popfimX = popfim.get(\"X\")\n",
        "for i in range(POPULACAO):\n",
        "  print(\"i:\",i,\"população final F=espeço objetivo:\",popfimF[i])\n",
        "for i in range(POPULACAO):\n",
        "  print(\"i:\",i,\"população final X=espeço de busca:\",popfimX[i])\n",
        "#resultados X\n",
        "for i in range(POPULACAO):\n",
        "  print(\"i:\",i,\"espaço de design:\",resultado.X[i])\n",
        "#resultados G\n",
        "for i in range(POPULACAO):\n",
        "  print(\"i:\",i,\"valores de restrição:\",resultado.G[i])\n",
        "#resultados CV\n",
        "for i in range(POPULACAO):\n",
        "  print(\"i:\",i,\"violação de restrição agregada:\",resultado.CV[i])\n",
        "#resultados opt\n",
        "sol = resultado.opt\n",
        "solF = sol.get(\"F\")\n",
        "solX = sol.get(\"X\")\n",
        "for i in range(POPULACAO):\n",
        "  print(\"i:\",i,\"soluções:\",solF[i])\n",
        "#resultados history\n",
        "his = resultado.history\n",
        "for i in range(ITERACOES):\n",
        "  ele = his[i]\n",
        "  print(\"i:\",i,\"elemento:\",ele)"
      ],
      "metadata": {
        "id": "x31Y3ZlbqU1q"
      },
      "execution_count": null,
      "outputs": []
    }
  ]
}